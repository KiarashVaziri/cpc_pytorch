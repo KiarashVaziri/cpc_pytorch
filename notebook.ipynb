{
 "cells": [
  {
   "cell_type": "code",
   "execution_count": 11,
   "metadata": {},
   "outputs": [],
   "source": [
    "\n",
    "import sys\n",
    "import numpy as np\n",
    "from torch import matmul, diag, from_numpy\n",
    "from torch.nn import Module, LogSoftmax"
   ]
  },
  {
   "cell_type": "code",
   "execution_count": 17,
   "metadata": {},
   "outputs": [],
   "source": [
    "log_smax = LogSoftmax(dim=1)\n",
    "\n",
    "future_predicted_timesteps = np.arange(1, 3)\n",
    "predicted_future_Z = from_numpy(np.array([[1.2, 2.1, 2.8],\n",
    "                               [0.1, 1.3, 2.2]]))\n",
    "Z_future_timesteps = from_numpy(np.array([[1., 2., 3.],\n",
    "                                          [0., 1., 2.]]))\n",
    "loss = 0"
   ]
  },
  {
   "cell_type": "code",
   "execution_count": 18,
   "metadata": {},
   "outputs": [
    {
     "data": {
      "text/plain": [
       "tensor([1.2000, 2.1000, 2.8000], dtype=torch.float64)"
      ]
     },
     "execution_count": 18,
     "metadata": {},
     "output_type": "execute_result"
    }
   ],
   "source": [
    "predicted_future_Z[0].T"
   ]
  },
  {
   "cell_type": "code",
   "execution_count": 21,
   "metadata": {},
   "outputs": [
    {
     "data": {
      "text/plain": [
       "tensor(13.8000, dtype=torch.float64)"
      ]
     },
     "execution_count": 21,
     "metadata": {},
     "output_type": "execute_result"
    }
   ],
   "source": [
    "matmul(Z_future_timesteps[0], predicted_future_Z[0].T)"
   ]
  },
  {
   "cell_type": "code",
   "execution_count": null,
   "metadata": {},
   "outputs": [],
   "source": [
    "i = 0\n",
    "for k in future_predicted_timesteps:\n",
    "            loss -= diag(log_smax(matmul(Z_future_timesteps[k-1], predicted_future_Z[i].T))).sum(dim=0)\n",
    "            i += 1"
   ]
  }
 ],
 "metadata": {
  "kernelspec": {
   "display_name": "ssl_py39",
   "language": "python",
   "name": "python3"
  },
  "language_info": {
   "codemirror_mode": {
    "name": "ipython",
    "version": 3
   },
   "file_extension": ".py",
   "mimetype": "text/x-python",
   "name": "python",
   "nbconvert_exporter": "python",
   "pygments_lexer": "ipython3",
   "version": "3.9.18"
  }
 },
 "nbformat": 4,
 "nbformat_minor": 2
}
